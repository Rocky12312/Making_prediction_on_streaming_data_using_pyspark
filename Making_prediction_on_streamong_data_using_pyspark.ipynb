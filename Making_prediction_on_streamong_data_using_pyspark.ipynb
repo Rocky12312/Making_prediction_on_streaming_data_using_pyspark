{
 "cells": [
  {
   "cell_type": "markdown",
   "metadata": {},
   "source": [
    "Basically in this notebook our focus will be on building a classification model on twitter sentiment analysis data and using it to return result on streaming data of sentiments"
   ]
  },
  {
   "cell_type": "markdown",
   "metadata": {},
   "source": [
    "Baically before creating a new spark context do \"sc.stop()\" as the system have automatically initialized the SparkContext(maybe a Object?)when we type \"pyspark\" in the terminal,so to stop we did sc.stop() before creating a new one otherwise it will give an error showing \"cannot run multiple spark context at a time\"."
   ]
  },
  {
   "cell_type": "code",
   "execution_count": 1,
   "metadata": {},
   "outputs": [],
   "source": [
    "sc.stop()"
   ]
  },
  {
   "cell_type": "code",
   "execution_count": 2,
   "metadata": {},
   "outputs": [],
   "source": [
    "from pyspark import SparkContext\n",
    "from pyspark.sql.session import SparkSession"
   ]
  },
  {
   "cell_type": "code",
   "execution_count": 3,
   "metadata": {},
   "outputs": [],
   "source": [
    "#Initializing the spark session\n",
    "sc=SparkContext(appName = \"Sent_prec\")\n",
    "spark=SparkSession(sc)"
   ]
  },
  {
   "cell_type": "code",
   "execution_count": 4,
   "metadata": {},
   "outputs": [],
   "source": [
    "#Defining the schema type\n",
    "#Defining the datatypes of the columns(setting id and label of integer type)\n",
    "from pyspark.sql import types as tp\n",
    "my_schema=tp.StructType([tp.StructField(name=\"id\",dataType= tp.IntegerType(),nullable= True),\n",
    "                         tp.StructField(name=\"label\",dataType= tp.IntegerType(),nullable= True),\n",
    "                         tp.StructField(name=\"tweet\",dataType= tp.StringType(),nullable= True)])"
   ]
  },
  {
   "cell_type": "code",
   "execution_count": 5,
   "metadata": {},
   "outputs": [],
   "source": [
    "#Reading the data\n",
    "data = spark.read.csv(\"train.csv\",my_schema,header = True)"
   ]
  },
  {
   "cell_type": "code",
   "execution_count": 6,
   "metadata": {},
   "outputs": [
    {
     "name": "stdout",
     "output_type": "stream",
     "text": [
      "root\n",
      " |-- id: integer (nullable = true)\n",
      " |-- label: integer (nullable = true)\n",
      " |-- tweet: string (nullable = true)\n",
      "\n"
     ]
    }
   ],
   "source": [
    "#Printing the schema(our datatypes are being set by us to be int ,int and string)\n",
    "data.printSchema()"
   ]
  },
  {
   "cell_type": "code",
   "execution_count": 7,
   "metadata": {},
   "outputs": [
    {
     "name": "stdout",
     "output_type": "stream",
     "text": [
      "+---+-----+--------------------+\n",
      "| id|label|               tweet|\n",
      "+---+-----+--------------------+\n",
      "|  1|    0| @user when a fat...|\n",
      "|  2|    0|@user @user thank...|\n",
      "|  3|    0|  bihday your maj...|\n",
      "|  4|    0|#model   i love u...|\n",
      "|  5|    0| factsguide: soci...|\n",
      "|  6|    0|[2/2] huge fan fa...|\n",
      "|  7|    0| @user camping to...|\n",
      "|  8|    0|the next school y...|\n",
      "|  9|    0|we won!!! love th...|\n",
      "| 10|    0| @user @user welc...|\n",
      "| 11|    0| â #ireland con...|\n",
      "| 12|    0|we are so selfish...|\n",
      "| 13|    0|i get to see my d...|\n",
      "| 14|    1|@user #cnn calls ...|\n",
      "| 15|    1|no comment!  in #...|\n",
      "| 16|    0|ouch...junior is ...|\n",
      "| 17|    0|i am thankful for...|\n",
      "| 18|    1|retweet if you ag...|\n",
      "| 19|    0|its #friday! ð...|\n",
      "| 20|    0|as we all know, e...|\n",
      "+---+-----+--------------------+\n",
      "only showing top 20 rows\n",
      "\n"
     ]
    }
   ],
   "source": [
    "data.show()"
   ]
  },
  {
   "cell_type": "markdown",
   "metadata": {},
   "source": [
    "Now we need to preprocess and clean our tweet column as it contains punctuations,digits,stopwords etc"
   ]
  },
  {
   "cell_type": "code",
   "execution_count": 8,
   "metadata": {},
   "outputs": [],
   "source": [
    "from pyspark.ml import Pipeline\n",
    "from pyspark.ml.feature import StringIndexer, OneHotEncoderEstimator, VectorAssembler\n",
    "from pyspark.ml.feature import StopWordsRemover, Word2Vec, RegexTokenizer\n",
    "from pyspark.sql.functions import udf, col, lower, regexp_replace\n",
    "\n",
    "#Cleaning the text replacing every thing except [^a-zA-Z\\\\s] with a empty space\n",
    "data_clean = data.select('id', (lower(regexp_replace('tweet', \"[^a-zA-Z\\\\s]\", \"\")).alias('tweet')))"
   ]
  },
  {
   "cell_type": "code",
   "execution_count": 9,
   "metadata": {},
   "outputs": [],
   "source": [
    "#Now building a model pipeline\n",
    "stage1 = RegexTokenizer(inputCol= \"tweet\", outputCol= \"tokens\", pattern= \"\\\\W\")\n",
    "stage2 = StopWordsRemover(inputCol= \"tokens\", outputCol= \"filtered_words\")\n",
    "stage3 = Word2Vec(inputCol= \"filtered_words\", outputCol= \"vector\", vectorSize= 1000)"
   ]
  },
  {
   "cell_type": "markdown",
   "metadata": {},
   "source": [
    "Can also use the below code for text preprocessing and cleaning"
   ]
  },
  {
   "cell_type": "code",
   "execution_count": null,
   "metadata": {},
   "outputs": [],
   "source": [
    "from nltk.stem.snowball import SnowballStemmer\n",
    "stemmer = SnowballStemmer(language='english')\n",
    "\n",
    "#Tokenizing the text\n",
    "tokenizer = Tokenizer(inputCol=\"tweet\", outputCol=\"words_token\")\n",
    "df_words_token = tokenizer.transform(data_clean).select('id', 'words_token')\n",
    "\n",
    "#Removing stopwords\n",
    "remover = StopWordsRemover(inputCol='words_token', outputCol='words_clean')\n",
    "df_words_no_stopw = remover.transform(df_words_token).select('id', 'words_clean')\n",
    "\n",
    "#Stemming the text(can also use WordNetLemmatizer or Porter Stemmer)\n",
    "from nltk.stem.snowball import SnowballStemmer\n",
    "#Taking english words only\n",
    "stemmer = SnowballStemmer(language='english')\n",
    "stemmer_udf = udf(lambda tokens: [stemmer.stem(token) for token in tokens], ArrayType(StringType()))\n",
    "df_stemmed = df_words_no_stopw.withColumn(\"words_stemmed\", stemmer_udf(\"words_clean\")).select('id', 'words_stemmed')\n",
    "\n",
    "#Filter length word > 3(Not much important but again depends)\n",
    "filter_length_udf = udf(lambda row: [x for x in row if len(x) >= 3], ArrayType(StringType()))\n",
    "df_final_words = df_stemmed.withColumn('words', filter_length_udf(col('words_stemmed')))"
   ]
  },
  {
   "cell_type": "code",
   "execution_count": 10,
   "metadata": {},
   "outputs": [],
   "source": [
    "#Creating classification model(using gradient boosted tree classifier model)\n",
    "from pyspark.ml.classification import GBTClassifier\n",
    "model = GBTClassifier(maxIter = 10,featuresCol = \"vector\",labelCol = \"label\")"
   ]
  },
  {
   "cell_type": "code",
   "execution_count": 11,
   "metadata": {},
   "outputs": [],
   "source": [
    "#Setting up the pipeline\n",
    "from pyspark.ml.pipeline import Pipeline\n",
    "pipeline = Pipeline(stages = [stage1,stage2,stage3,model])\n",
    "pip_fit = pipeline.fit(data)"
   ]
  },
  {
   "cell_type": "markdown",
   "metadata": {},
   "source": [
    "Now we will be getting the data in streams and we have to return results"
   ]
  },
  {
   "cell_type": "code",
   "execution_count": null,
   "metadata": {},
   "outputs": [],
   "source": [
    "import sys\n",
    "def rx_predictions(tweets):\n",
    "    try:\n",
    "        #Filtering the tweets and taking ones len(x)>0\n",
    "        tweets = tweets.filter(lambda x:len(x)>0)\n",
    "        #Creating a data frame containing tweet column\n",
    "        data_tweet = tweets.map(lambda w:Row(tweet = w))\n",
    "        #Spark data frame\n",
    "        data_tweet_frame = spark.createDataFrame(data_tweet)\n",
    "        #Transforming the data using pipeline\n",
    "        pip_fit.transform(data_tweet_frame).select(\"tweet\",\"prediction\").show()\n",
    "    except:\n",
    "        print(\"No data\")\n",
    "from pyspark.streaming import StreamingContext\n",
    "ssc = StreamingContext(sc,batchDuration = 3)\n",
    "#Creating a Dstream that will connect the hostname,port\n",
    "lines = ssc.socketTextStream(sys.argv[1],int(sys.argv[2]))\n",
    "#Now splitting the tweets so that we can identify which set of words are from which tweet\n",
    "words = lines.flatMap(lambda line:line.split(\"PICO\"))\n",
    "#Get the predicted sentiments from tweet received\n",
    "words.foreachRDD(rx_prediction)\n",
    "#Starting the computation\n",
    "ssc.start()\n",
    "#Waiting for the computation to terminate\n",
    "ssc.awaitTermination()"
   ]
  },
  {
   "cell_type": "code",
   "execution_count": null,
   "metadata": {},
   "outputs": [],
   "source": []
  }
 ],
 "metadata": {
  "kernelspec": {
   "display_name": "Python 3",
   "language": "python",
   "name": "python3"
  },
  "language_info": {
   "codemirror_mode": {
    "name": "ipython",
    "version": 3
   },
   "file_extension": ".py",
   "mimetype": "text/x-python",
   "name": "python",
   "nbconvert_exporter": "python",
   "pygments_lexer": "ipython3",
   "version": "3.7.4"
  }
 },
 "nbformat": 4,
 "nbformat_minor": 2
}
